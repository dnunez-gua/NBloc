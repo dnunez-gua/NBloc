{
 "cells": [
  {
   "cell_type": "markdown",
   "metadata": {},
   "source": [
    "# <span style=\"color: #fb4141\">Les instructions conditionnelles en Python</span>\n",
    "\n",
    "## Apprendre les bases de la programmation en langage Python\n",
    "\n"
   ]
  },
  {
   "cell_type": "markdown",
   "metadata": {},
   "source": [
    "==================================================================================================================="
   ]
  },
  {
   "cell_type": "markdown",
   "metadata": {},
   "source": [
    "Ce carnet (Notebook Jupyter) est une adaptation libre d'un document (pdf) dont l'auteur original est David Roche, repris ensuite par Fabrice Sincère.<br>\n",
    "Les compléments sont basés sur les fiches Python du livrescolaire.fr<br>\n",
    "**Dernière modification :** Yann Guélou (24 octobre 2019)."
   ]
  },
  {
   "cell_type": "markdown",
   "metadata": {},
   "source": [
    "==================================================================================================================="
   ]
  },
  {
   "cell_type": "markdown",
   "metadata": {},
   "source": [
    "### <span style=\"color: #0000FF\">1. PRINCIPE du SI...ALORS...SINON </span>\n",
    "\n",
    "Un programme informatique devient intéressant lorsqu'il prend en charge des opérations longues et fastidieuses pour l'homme. Pour savoir comment réagir au fur et à mesure de l'avancement des instructions, il devient nécessaire de faire des tests dont les résultats vont modifier la suite du programme. L'enchaînement des instructions est ainsi lié à des conditions (tests).<br>\n",
    "\n",
    "En programmation, le **SI... ALORS... SINON** est une structure fondamentale qui permet de réaliser certaines instructions sous certaines conditions.<br>\n",
    "\n",
    "En Python la syntaxe ressemble à :<br>\n",
    "\n",
    "**SI** condition :<br>\n",
    "----instruction 1<br>\n",
    "**SINON** : <br>\n",
    "----instruction 2 <br>\n",
    "\n",
    "Explication: <br>\n",
    "**SI** la condition est vraie (True) **ALORS** le bloc d'intruction 1 est exécuté et le bloc d'intruction 2 est ignoré.<br>\n",
    "**SINON** ( la condition est fausse (False)) le bloc d'intruction 2 est exécuté et le bloc d'intruction 1 est ignoré.<br>\n",
    "\n",
    "### IMPORTANT\n",
    "Noter le décalage à droite des blocs d'instruction.\n",
    "Ce décalage est appelé **indentation**, il est obligatoire en langage **Python**\n",
    "\n",
    "\n",
    "\n",
    "\n",
    "\n",
    "\n",
    "\n",
    "\n"
   ]
  },
  {
   "cell_type": "markdown",
   "metadata": {},
   "source": [
    "### <span style=\"color: #0000FF\">if...else... </span>\n",
    "\n",
    "<h3 style=\"color: darkorange\">A vous de coder :</h3>\n",
    "\n",
    "Tester le code suivant<br>\n",
    "Relancer le plusieurs fois en modifiant la saisie.\n"
   ]
  },
  {
   "cell_type": "code",
   "execution_count": null,
   "metadata": {},
   "outputs": [],
   "source": [
    "couleur=input(\"Quelle est la couleur du tableau? \")\n",
    "\n",
    "if couleur==\"blanc\":\n",
    "    print(\"Exact, le tableau est blanc\")\n",
    "else:\n",
    "    print(\"Faux, le tableau n'est pas\", couleur,\", il est blanc.\")\n",
    "    \n",
    "print(\"Le programme est fini\")\n"
   ]
  },
  {
   "cell_type": "markdown",
   "metadata": {},
   "source": [
    "**Quel est le résultat de ce programme ?**"
   ]
  },
  {
   "cell_type": "markdown",
   "metadata": {},
   "source": [
    "<h3 style=\"color: darkorange\">A vous de coder :</h3>\n",
    "\n",
    "Ecrire un programme qui demande le numéro du département de naissance de l'utilisateur.<br>\n",
    "Si le numéro est 29, le programme répond \"Bonjour, vous êtes né dans le Finistère\".<br>\n",
    "Sinon, le programme répond \"Bonjour, vous n'êtes pas né dans le Finistère\"<br>\n",
    "\n"
   ]
  },
  {
   "cell_type": "code",
   "execution_count": null,
   "metadata": {},
   "outputs": [],
   "source": [
    "#votre code ici"
   ]
  },
  {
   "cell_type": "markdown",
   "metadata": {},
   "source": [
    "### <span style=\"color: #0000FF\">2. Les opérateurs logiques OR et AND </span>\n",
    "\n",
    "Dans un programme, on peut remplacer une condition simple par le résultat d'une opération logique : \n",
    "* **condition1 OR condition2** est Vraie si condition est Vraie **OU** condition2 est Vraie.\n",
    "\n",
    "* **condition1 AND condition2** est Vraie si condition1 **ET** condition2 sont Vraies.\n",
    "\n",
    "<h3 style=\"color: darkorange\">A vous de coder :</h3>\n",
    "\n",
    "Tester le programme ci-dessous pour comprendre l'utilisation de l'opérateur \n"
   ]
  },
  {
   "cell_type": "code",
   "execution_count": 22,
   "metadata": {},
   "outputs": [
    {
     "name": "stdout",
     "output_type": "stream",
     "text": [
      "Quel est votre âge ?45\n",
      "Vous êtes majeur et actif\n",
      "Fin du programme\n"
     ]
    }
   ],
   "source": [
    "age=int(input(\"Quel est votre âge ?\"))\n",
    "\n",
    "if age>=18 and age<62:\n",
    "    print(\"Vous êtes majeur et actif\")\n",
    "else:\n",
    "    if age<18 or age>=62:\n",
    "        print(\"Vous êtes jeune ou retraité\")\n",
    "print(\"Fin du programme\")"
   ]
  },
  {
   "cell_type": "markdown",
   "metadata": {},
   "source": [
    "**Que fait ce programme ?**"
   ]
  },
  {
   "cell_type": "markdown",
   "metadata": {},
   "source": [
    "### <span style=\"color: #0000FF\">L'opérateur or</span>\n",
    "<h3 style=\"color: darkorange\">A vous de coder :</h3>\n",
    "\n",
    "Ecrire un programme qui demande le numéro du département de naissance de l'utilisateur.\n",
    "Si le numéro est 22 ou 29 ou 35 ou 56 le programme répond \"Bonjour, vous êtes né en Bretagne\".\n",
    "Sinon, le programme répond \"Bonjour, vous n'êtes pas né en Bretagne\""
   ]
  },
  {
   "cell_type": "code",
   "execution_count": null,
   "metadata": {},
   "outputs": [],
   "source": [
    "#votre code ici\n"
   ]
  },
  {
   "cell_type": "markdown",
   "metadata": {},
   "source": [
    "### <span style=\"color: #0000FF\">L'opérateur and</span>\n",
    "<h3 style=\"color: darkorange\">A vous de coder :</h3>\n",
    "\n",
    "\n",
    "Ecrire un programme qui demande à l'utilisateur de saisir la température ambiante.<br>\n",
    "Si la température est inférieure à 4 °C , le programme répond \"Il fait froid, attention au verglas si vous sortez\".<br>\n",
    "Si la température est supérieure à 4°C  et inférieure 16°C, le programme répond \"Il fait frais, pensez à allumer le chauffage\".<br>\n",
    "Sinon le programme répond \"Il fait chaud, inutile d'allumer le chauffage\" \n",
    "    \n",
    "    "
   ]
  },
  {
   "cell_type": "code",
   "execution_count": null,
   "metadata": {},
   "outputs": [],
   "source": [
    "#votre code ici"
   ]
  },
  {
   "cell_type": "markdown",
   "metadata": {},
   "source": [
    "### <span style=\"color: #0000FF\">3. if...elif...else... </span>\n",
    "Lorsque plusieurs conditions s'enchaînent, on peut utiliser l'instruction `elif`comme dans l'exemple ci-dessous:"
   ]
  },
  {
   "cell_type": "code",
   "execution_count": null,
   "metadata": {},
   "outputs": [],
   "source": [
    "note=float(input(\"Saisir une Note sur 20 : \"))\n",
    "if note>=10 and note<=20:\n",
    "    print(\"Bravo, Vous avez la moyenne\")\n",
    "elif note<0 or note >20:\n",
    "    print(\"Note invalide\")\n",
    "else:\n",
    "    print(\"Dommage, vous n'avez pas la moyenne\")\n",
    "print(\"Fin du programme\")\n",
    "           "
   ]
  },
  {
   "cell_type": "markdown",
   "metadata": {},
   "source": [
    "### <span style=\"color: #0000FF\">EXERCICE </span>"
   ]
  },
  {
   "cell_type": "markdown",
   "metadata": {},
   "source": [
    "<h3 style=\"color: darkorange\">A vous de coder :</h3>\n",
    "\n",
    "Ecrire un programme qui demande le tarif normal d'une place de spectacle et l'âge de l'utilisateur.<br>\n",
    "Le programme doit ensuite calculer et afficher le prix de la place de spectacle sachant que :<br>\n",
    "* Le spectacle est gratuit pour les moins de 7 ans<br>\n",
    "* Une réduction de 30% est accordée aux jeunes de moins de 18 ans ainsi qu'aux personnes de 65 ans et plus."
   ]
  },
  {
   "cell_type": "code",
   "execution_count": null,
   "metadata": {},
   "outputs": [],
   "source": [
    "#votre code ici "
   ]
  },
  {
   "cell_type": "markdown",
   "metadata": {},
   "source": [
    "### <span style=\"color: #0000FF\">Compléments sur les instructions conditionnelles</span>\n",
    "http://lls-ftp.s3.amazonaws.com/collection-2019/python/FICHE4_LES_INSTRUCTIONS_CONDITIONNELLES.pdf"
   ]
  },
  {
   "cell_type": "markdown",
   "metadata": {},
   "source": [
    "============= FIN  DU CARNET : Instructions conditionnelles en  Python ===================="
   ]
  }
 ],
 "metadata": {
  "kernelspec": {
   "display_name": "Python 3",
   "language": "python",
   "name": "python3"
  },
  "language_info": {
   "codemirror_mode": {
    "name": "ipython",
    "version": 3
   },
   "file_extension": ".py",
   "mimetype": "text/x-python",
   "name": "python",
   "nbconvert_exporter": "python",
   "pygments_lexer": "ipython3",
   "version": "3.7.4"
  }
 },
 "nbformat": 4,
 "nbformat_minor": 2
}
