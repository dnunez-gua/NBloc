{
 "cells": [
  {
   "cell_type": "markdown",
   "metadata": {},
   "source": [
    "# <span style=\"color: #fb4141\">Les boucles FOR en Python</span>\n",
    "\n",
    "## Apprendre les bases de la programmation en langage Python\n",
    "\n"
   ]
  },
  {
   "cell_type": "markdown",
   "metadata": {},
   "source": [
    "==================================================================================================================="
   ]
  },
  {
   "cell_type": "markdown",
   "metadata": {},
   "source": [
    "Ce carnet (Notebook Jupyter) est une adaptation libre d'un document pdf dont l'auteur original est David Roche, repris ensuite par Fabrice Sincère.<br>\n",
    "Les compléments sont basés sur les fiches Python du site lelivrescolaire.fr.<br>\n",
    "**Dernière modification :** Yann Guélou (24 octobre 2019).<br>"
   ]
  },
  {
   "cell_type": "markdown",
   "metadata": {},
   "source": [
    "==================================================================================================================="
   ]
  },
  {
   "cell_type": "markdown",
   "metadata": {},
   "source": [
    "### <span style=\"color: #0000FF\">1 : Notion de boucle FOR</span>\n",
    "La notion de boucle est fondamentale en programmation. Elle permet en effet de répéter plusieurs fois une instruction écrite une seule fois dans le programme. Les ordinateurs étant capables d'éxécuter rapidement des instructions simples, ce principe permet d'automatiser des tâches souvent fastidieuses pour l'utilisateur.<br>\n",
    "\n",
    "La structure de la boucle FOR est la suivante:\n",
    "\n",
    "`for k in range (max):`<br>\n",
    "`----instruction`<br>\n",
    "\n",
    "Mais il existe des variantes:<br>\n",
    "\n",
    "`for k in range (min,max):`<br>\n",
    "`----instruction`<br>\n",
    "\n",
    "Ou encore<br>\n",
    " `for k in range (min,max,step):`<br>\n",
    "`----instruction`<br>\n",
    "\n"
   ]
  },
  {
   "cell_type": "markdown",
   "metadata": {},
   "source": [
    "<h3 style=\"color: darkorange\">A vous de coder :</h3>\n",
    "\n",
    "Tester le code suivant<br>\n",
    "\n"
   ]
  },
  {
   "cell_type": "code",
   "execution_count": 1,
   "metadata": {},
   "outputs": [
    {
     "name": "stdout",
     "output_type": "stream",
     "text": [
      "0\n",
      "1\n",
      "2\n",
      "3\n",
      "4\n",
      "5\n",
      "6\n",
      "7\n",
      "8\n",
      "9\n"
     ]
    }
   ],
   "source": [
    "for k in range(10):\n",
    "    print(k)"
   ]
  },
  {
   "cell_type": "markdown",
   "metadata": {},
   "source": [
    "**Quel est le résultat?**"
   ]
  },
  {
   "cell_type": "markdown",
   "metadata": {},
   "source": [
    "<h3 style=\"color: darkorange\">A vous de coder :</h3>\n",
    "\n",
    "Tester le code suivant"
   ]
  },
  {
   "cell_type": "code",
   "execution_count": 5,
   "metadata": {},
   "outputs": [
    {
     "name": "stdout",
     "output_type": "stream",
     "text": [
      "5\n",
      "6\n",
      "7\n",
      "8\n",
      "9\n"
     ]
    }
   ],
   "source": [
    "for k in range (5,10):\n",
    "    print(k)"
   ]
  },
  {
   "cell_type": "markdown",
   "metadata": {},
   "source": [
    "**Que fait ce programme ?**"
   ]
  },
  {
   "cell_type": "markdown",
   "metadata": {},
   "source": [
    "<h3 style=\"color: darkorange\">A vous de coder :</h3>\n",
    "\n",
    "Tester le code suivant"
   ]
  },
  {
   "cell_type": "code",
   "execution_count": 8,
   "metadata": {},
   "outputs": [
    {
     "name": "stdout",
     "output_type": "stream",
     "text": [
      "1\n",
      "3\n",
      "5\n",
      "7\n",
      "9\n",
      "11\n",
      "13\n",
      "15\n",
      "17\n",
      "19\n"
     ]
    }
   ],
   "source": [
    "for k in range(1,20,2):\n",
    "    print(k)"
   ]
  },
  {
   "cell_type": "markdown",
   "metadata": {},
   "source": [
    "**Que fait ce programme ?**"
   ]
  },
  {
   "cell_type": "markdown",
   "metadata": {},
   "source": [
    "### <span style=\"color: #0000FF\">2.EXERCICES </span>\n"
   ]
  },
  {
   "cell_type": "markdown",
   "metadata": {},
   "source": [
    "<h3 style=\"color: darkorange\">A vous de coder :</h3>\n",
    "\n",
    "\n",
    "Ecrire un programme qui écrit la liste des carrés des nombres entiers allant de 1 à 10."
   ]
  },
  {
   "cell_type": "code",
   "execution_count": 9,
   "metadata": {},
   "outputs": [],
   "source": [
    "#votre code ici\n"
   ]
  },
  {
   "cell_type": "markdown",
   "metadata": {},
   "source": [
    "<h3 style=\"color: darkorange\">A vous de coder :</h3>\n",
    "\n",
    "\n",
    "Ecrire un programme qui écrit la liste des carrés des nombres entiers impairs allant de 1 à 21."
   ]
  },
  {
   "cell_type": "code",
   "execution_count": null,
   "metadata": {},
   "outputs": [],
   "source": []
  },
  {
   "cell_type": "markdown",
   "metadata": {},
   "source": [
    "<h3 style=\"color: darkorange\">A vous de coder :</h3>\n",
    "\n",
    "\n",
    "* Une année bissextile si elle est divisible par 4 et non divisible par 100, ou divisible par 400.\n",
    "* Sinon, l'année n'est pas bissextile (elle a 365 jours). \n",
    "\n",
    "Ecrire un programme qui affiche toutes les années bissextiles dans les cent ans à venir.\n"
   ]
  },
  {
   "cell_type": "code",
   "execution_count": 10,
   "metadata": {},
   "outputs": [],
   "source": [
    "#votre code ici"
   ]
  },
  {
   "cell_type": "markdown",
   "metadata": {},
   "source": [
    "<h3 style=\"color: darkorange\">A vous de coder :</h3>\n",
    "\n",
    "Ecrire un programme qui simule le lancer d'un dé à 6 faces et affiche le résultat de 10 lancers.<br>\n",
    "Pour simuler le lancer d'un dé à 6 faces, on peut utiliser le code Python:\n"
   ]
  },
  {
   "cell_type": "code",
   "execution_count": 2,
   "metadata": {},
   "outputs": [
    {
     "name": "stdout",
     "output_type": "stream",
     "text": [
      "4\n"
     ]
    }
   ],
   "source": [
    "from random import *\n",
    "tirage=randint(1,6)\n",
    "print(tirage)\n"
   ]
  },
  {
   "cell_type": "code",
   "execution_count": null,
   "metadata": {},
   "outputs": [],
   "source": [
    "#votre code ici "
   ]
  },
  {
   "cell_type": "markdown",
   "metadata": {},
   "source": [
    "### <span style=\"color: #0000FF\">Compléments sur les boucles bornées  </span>\n",
    "http://lls-ftp.s3.amazonaws.com/collection-2019/python/FICHE5_LES_BOUCLES_BORNEES.pdf\n"
   ]
  },
  {
   "cell_type": "markdown",
   "metadata": {},
   "source": [
    "===================== FIN  DU CARNET : Les boucles FOR en  Python ===================="
   ]
  }
 ],
 "metadata": {
  "kernelspec": {
   "display_name": "Python 3",
   "language": "python",
   "name": "python3"
  },
  "language_info": {
   "codemirror_mode": {
    "name": "ipython",
    "version": 3
   },
   "file_extension": ".py",
   "mimetype": "text/x-python",
   "name": "python",
   "nbconvert_exporter": "python",
   "pygments_lexer": "ipython3",
   "version": "3.7.4"
  }
 },
 "nbformat": 4,
 "nbformat_minor": 2
}
