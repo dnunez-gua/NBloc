{
 "cells": [
  {
   "cell_type": "markdown",
   "metadata": {},
   "source": [
    "# <span style=\"color: #fb4141\">Les fonctions en Python</span>\n",
    "\n",
    "## Apprendre les bases de la programmation en langage Python\n",
    "\n"
   ]
  },
  {
   "cell_type": "markdown",
   "metadata": {},
   "source": [
    "==================================================================================================================="
   ]
  },
  {
   "cell_type": "markdown",
   "metadata": {},
   "source": [
    "Ce carnet (Notebook Jupyter) est une adaptation libre d'un document pdf dont l'auteur original est David Roche, repris ensuite par Fabrice Sincère.<br>\n",
    "Les compléments sont basés sur les fiches Python du site lelivrescolaire.fr.<br>\n",
    "**Dernière modification :** Yann Guélou-Eric Madec (25 octobre 2019).<br>"
   ]
  },
  {
   "cell_type": "markdown",
   "metadata": {},
   "source": [
    "==================================================================================================================="
   ]
  },
  {
   "cell_type": "markdown",
   "metadata": {},
   "source": [
    "### <span style=\"color: #0000FF\">1. Notion de fonction</span>\n",
    "En programmation, les fonctions permettent de décomposer un programme complexe en une série de sous-programmes plus simples.<br>\n",
    "Dans un programme complexe, on appelle les fonctions au fur et à mesure des besoins.<br>\n",
    "Certaines fonctions sont déjà présentes dans le langage Python  comme **`print()`**, **`input()`**,.., mais l'utilisateur peut aussi en créer lui-même.<br>\n",
    "\n",
    "Voici la **syntaxe pour définir une fonction :**\n",
    "\n",
    "`def Nom_de_la_fonction(paramètre):`<br>\n",
    "`----bloc instructions`<br>\n",
    "`----return valeur`<br>\n",
    "\n",
    "Par exemple, <br>\n",
    "Pour coder la fonction mathématique qui transforme un nombre x en son carré :<br>\n",
    "`def fonction_carre(x):` <br>\n",
    "`----y=x*x`<br>\n",
    "`----return y`\n",
    "     \n",
    "     \n",
    "Ensuite, pour obtenir le carré de 5 il suffira d'écrire le code:\n",
    "`fonction_carre(5)`\n",
    "    \n",
    "\n",
    "\n",
    "\n",
    "\n",
    "\n",
    "\n"
   ]
  },
  {
   "cell_type": "markdown",
   "metadata": {},
   "source": [
    "<h3 style=\"color: darkorange\">A vous de coder :</h3>\n",
    "\n",
    "Tester le code suivant et dire ce qu'il réalise. <br>\n"
   ]
  },
  {
   "cell_type": "code",
   "execution_count": 4,
   "metadata": {},
   "outputs": [
    {
     "name": "stdout",
     "output_type": "stream",
     "text": [
      "Le carré de 0 est 0\n",
      "Le carré de 1 est 1\n",
      "Le carré de 2 est 4\n",
      "Le carré de 3 est 9\n",
      "Le carré de 4 est 16\n",
      "Le carré de 5 est 25\n",
      "Le carré de 6 est 36\n",
      "Le carré de 7 est 49\n",
      "Le carré de 8 est 64\n",
      "Le carré de 9 est 81\n"
     ]
    }
   ],
   "source": [
    "def fonction_carre(x):\n",
    "    y=x*x\n",
    "    return y\n",
    "for k in range(10):\n",
    "    print(f\"Le carré de {k} est {fonction_carre(k)}\")\n"
   ]
  },
  {
   "cell_type": "markdown",
   "metadata": {},
   "source": [
    "**Que fait ce programme ?**"
   ]
  },
  {
   "cell_type": "markdown",
   "metadata": {},
   "source": [
    "**Remarque :** Une fonction peut ne pas avoir de paramètre, elle peut aussi ne rien retourner (absence du return) : "
   ]
  },
  {
   "cell_type": "code",
   "execution_count": 2,
   "metadata": {},
   "outputs": [
    {
     "name": "stdout",
     "output_type": "stream",
     "text": [
      "15:19:50\n"
     ]
    }
   ],
   "source": [
    "from time import *\n",
    "def now():\n",
    "    print(strftime('%H:%M:%S'))\n",
    "now()"
   ]
  },
  {
   "cell_type": "markdown",
   "metadata": {},
   "source": [
    "**Que fait ce programme ?**"
   ]
  },
  {
   "cell_type": "markdown",
   "metadata": {},
   "source": [
    "<h3 style=\"color: darkorange\">A vous de coder :</h3>\n",
    "\n",
    "Propser une amélioration de ce code pour qu'il affiche un message personnalisé à l'utilisateur."
   ]
  },
  {
   "cell_type": "code",
   "execution_count": 11,
   "metadata": {},
   "outputs": [
    {
     "name": "stdout",
     "output_type": "stream",
     "text": [
      "12:14:51\n"
     ]
    }
   ],
   "source": [
    "from time import *\n",
    "def now():\n",
    "    print(strftime('%H:%M:%S'))\n",
    "now()\n",
    "#votre supplément de code ici pour rendre le message réponse plus convivial."
   ]
  },
  {
   "cell_type": "markdown",
   "metadata": {},
   "source": [
    "### <span style=\"color: #0000FF\">2. EXERCICE</span>"
   ]
  },
  {
   "cell_type": "markdown",
   "metadata": {},
   "source": [
    "<h3 style=\"color: darkorange\">A vous de coder :</h3>\n",
    "\n",
    "Ecrire un programme qui définit les deux fonctions suivantes:<br>\n",
    "* **half(n)** : qui rend la moitié du nombre entier n<br>\n",
    "* **three_times_plus_one()** : qui rend le triple de n plus un.<br>\n",
    "\n",
    "Puis demande à l'utilisateur de saisir un nombre entier n.<br>\n",
    "<br>\n",
    "Si le nombre **n est pair** alors le programme rend la **moitié de n**.<br>\n",
    "**Sinon** le programme rend le **triple de n plus un**.<br>"
   ]
  },
  {
   "cell_type": "code",
   "execution_count": 3,
   "metadata": {},
   "outputs": [],
   "source": [
    "#votre code ici "
   ]
  },
  {
   "cell_type": "markdown",
   "metadata": {},
   "source": [
    "### <span style=\"color: #0000FF\">Compléments sur les fonctions </span>\n",
    "http://lls-ftp.s3.amazonaws.com/collection-2019/python/FICHE3_LES_FONCTIONS.pdf\n"
   ]
  },
  {
   "cell_type": "markdown",
   "metadata": {},
   "source": [
    "En mathématiques, on utilise souvent des fonctions dont la variable est un nombre.<br>\n",
    "Considérons par exemple la fonction affine définie sur IR par *f(x)=3x+5*<br>\n",
    "Voici comment la définir en Python:"
   ]
  },
  {
   "cell_type": "code",
   "execution_count": 6,
   "metadata": {},
   "outputs": [
    {
     "name": "stdout",
     "output_type": "stream",
     "text": [
      "L'image de 1 par la fonction f est est 8\n"
     ]
    }
   ],
   "source": [
    "# définition de la fonction\n",
    "def f(x):\n",
    "    return 3*x+5\n",
    "\n",
    "#écriture du texte réponse et appel de la fonction\n",
    "\n",
    "print (f\"L'image de 1 par la fonction f est est {f(1)}.\" ) \n",
    "\n"
   ]
  },
  {
   "cell_type": "markdown",
   "metadata": {},
   "source": [
    "<h3 style=\"color: darkorange\">A vous de coder :</h3>\n",
    "\n",
    "Recopier et modifier le programme précédent pour qu'il renvoie l'image de 4 par la fonction g définie sur IR par *g(x)=7x-3*"
   ]
  },
  {
   "cell_type": "code",
   "execution_count": 5,
   "metadata": {},
   "outputs": [],
   "source": [
    "#votre code ici"
   ]
  },
  {
   "cell_type": "markdown",
   "metadata": {},
   "source": [
    "En Python, les variables des fonctions ne sont pas toujours des nombres.\n",
    "Dans l'exemple suivant, la variable est un texte (type str)"
   ]
  },
  {
   "cell_type": "code",
   "execution_count": 8,
   "metadata": {},
   "outputs": [
    {
     "name": "stdout",
     "output_type": "stream",
     "text": [
      "Bonjour Jean. Comment vas-tu?\n"
     ]
    }
   ],
   "source": [
    "def Hello(name):\n",
    "    print (f\"Bonjour {name}. Comment vas-tu?\")\n",
    "    \n",
    "#appel de la fonction\n",
    "\n",
    "Hello(\"Jean\")"
   ]
  },
  {
   "cell_type": "markdown",
   "metadata": {},
   "source": [
    "<h3 style=\"color: darkorange\">A vous de coder :</h3>\n",
    "\n",
    "Modifier la fonction `Hello()` pour qu'elle renvoie une phrase différente."
   ]
  },
  {
   "cell_type": "code",
   "execution_count": 7,
   "metadata": {},
   "outputs": [],
   "source": [
    "#votre code ici"
   ]
  },
  {
   "cell_type": "markdown",
   "metadata": {},
   "source": [
    "**Remarque :** Une fonction peut avoir plusieurs variables, de types différents :"
   ]
  },
  {
   "cell_type": "code",
   "execution_count": 10,
   "metadata": {},
   "outputs": [
    {
     "name": "stdout",
     "output_type": "stream",
     "text": [
      "Louise est donc né(e) en 2003 ou 2004\n"
     ]
    }
   ],
   "source": [
    "def naissance(name,age):\n",
    "    print(f\"{name} est donc né(e) en {2018-age} ou {2019-age}.\")\n",
    "    \n",
    "#appel de la fonction\n",
    "    \n",
    "naissance(\"Louise\",15)"
   ]
  },
  {
   "cell_type": "markdown",
   "metadata": {},
   "source": [
    "<h3 style=\"color: darkorange\">A vous de coder :</h3>\n",
    "\n",
    "Modifier le programme pour qu'il retourne un message contenant votre prénom et votre date de naissance."
   ]
  },
  {
   "cell_type": "markdown",
   "metadata": {},
   "source": [
    "============= FIN  DU CARNET : Les fonctions en  Python ===================="
   ]
  },
  {
   "cell_type": "code",
   "execution_count": null,
   "metadata": {},
   "outputs": [],
   "source": []
  }
 ],
 "metadata": {
  "kernelspec": {
   "display_name": "Python 3",
   "language": "python",
   "name": "python3"
  },
  "language_info": {
   "codemirror_mode": {
    "name": "ipython",
    "version": 3
   },
   "file_extension": ".py",
   "mimetype": "text/x-python",
   "name": "python",
   "nbconvert_exporter": "python",
   "pygments_lexer": "ipython3",
   "version": "3.7.4"
  }
 },
 "nbformat": 4,
 "nbformat_minor": 2
}
