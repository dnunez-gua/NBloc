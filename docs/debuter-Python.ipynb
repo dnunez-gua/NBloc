{
 "cells": [
  {
   "cell_type": "markdown",
   "metadata": {},
   "source": [
    "# <span style=\"color: #fb4141\">Débuter en Python</span>\n",
    "\n",
    "## Apprendre les bases de la programmation en  langage Python\n",
    "\n"
   ]
  },
  {
   "cell_type": "markdown",
   "metadata": {},
   "source": [
    "==================================================================================================================="
   ]
  },
  {
   "cell_type": "markdown",
   "metadata": {},
   "source": [
    "Ce carnet (Notebook Jupyter) est une adaptation libre d'un document (pdf) dont l'auteur original est David Roche, repris ensuite par Fabrice Sincère.<br>\n",
    "Les compléments sont basés sur les fiches Python du livrescolaire.fr<br>\n",
    "**Dernière modification :** Yann Guélou & Eric Madec (24 octobre 2019)."
   ]
  },
  {
   "cell_type": "markdown",
   "metadata": {},
   "source": [
    "==================================================================================================================="
   ]
  },
  {
   "cell_type": "markdown",
   "metadata": {},
   "source": [
    "### <span style=\"color: #0000FF\">ACTIVITE 1 : Hello World !</span>\n",
    "\n",
    "C'est la tradition, le premier programme écrit par un débutant affiche à l'écran le message **HELLO WORLD !**\n",
    "\n",
    "Vous allez donc commencer votre carrière de programmeur en recopiant la ligne:<br>\n",
    "<br>\n",
    "`print(\"Hello World !\")`<br>\n",
    "<br>Dans la fenêtre suivante.<br>\n",
    "Pour voir le résultat, cliquer ensuite sur le bouton \"Exécuter\" ou \"Run\""
   ]
  },
  {
   "cell_type": "code",
   "execution_count": 7,
   "metadata": {},
   "outputs": [
    {
     "name": "stdout",
     "output_type": "stream",
     "text": [
      "Hello World !\n"
     ]
    }
   ],
   "source": [
    "print (\"Hello World !\")"
   ]
  },
  {
   "cell_type": "markdown",
   "metadata": {},
   "source": [
    "<h3 style=\"color: darkorange\">A vous de coder :</h3> Ecrire un programme qui affiche à l'écran votre NOM et votre Prénom."
   ]
  },
  {
   "cell_type": "code",
   "execution_count": null,
   "metadata": {},
   "outputs": [],
   "source": []
  },
  {
   "cell_type": "markdown",
   "metadata": {},
   "source": [
    "**Remarque :**<br>\n",
    "En Python,pour commenter un programme, sans que cela change les instructions, il suffit de commencer la ligne de commentaire par le symbole #"
   ]
  },
  {
   "cell_type": "code",
   "execution_count": 31,
   "metadata": {},
   "outputs": [
    {
     "name": "stdout",
     "output_type": "stream",
     "text": [
      "Ce code commence par un commentaire \n"
     ]
    }
   ],
   "source": [
    "#ceci est un commentaire qui ne changera pas le cours du programme\n",
    "print(\"Ce code commence par un commentaire \")"
   ]
  },
  {
   "cell_type": "markdown",
   "metadata": {},
   "source": [
    "### <span style=\"color: #0000FF\">COMPLEMENTS sur la notion d'algorithme</span>\n",
    "\n",
    "http://lls-ftp.s3.amazonaws.com/collection-2019/python/FICHE1_ALGORITHME_EN_LANGAGE_NATUREL.pdf\n"
   ]
  },
  {
   "cell_type": "markdown",
   "metadata": {},
   "source": [
    "==================================================================================================================="
   ]
  },
  {
   "cell_type": "markdown",
   "metadata": {},
   "source": [
    "### <span style=\"color: #0000FF\">ACTIVITE 2 : Notion de variable</span>\n",
    "Un ordinateur est une machine automatique qui traite de l'information (données) en suivant des programmes constitués d'une suite d'opérations logiques et arithmétiques.<br>\n",
    "Un programme passe donc son temps à manipuler des **données**, stockées temporairement dans sa **mémoire** (RAM Random Access Memory). La RAM est composée de cases dans lesquelles sont rangées les données.<br>\n",
    "Une **variable** est une donnée stockée temporairement dans une case de la RAM. Le mot variable est utilisé pour indiquer que sa valeur peut changer au fil de l'éxécution du programme.<br>\n",
    "Une variable est constituée de deux choses : \n",
    "* sa **valeur** : c'est la donnée qu'elle stocke\n",
    "* son **nom**   : c'est ce qui permet de la reconnaître.\n",
    "\n",
    "Le code Python suivant définit la variable a qui contient la valeur 5:<br>\n",
    "<br>\n",
    "`a=5`<br>\n",
    "<br>\n",
    "Pour afficher la valeur de la variable a, il suffit d'écrire le code :<br>\n",
    "<br>\n",
    "`print(a)`<br>\n",
    "<br>\n",
    "\n",
    "\n",
    "\n"
   ]
  },
  {
   "cell_type": "markdown",
   "metadata": {},
   "source": [
    "<h3 style=\"color: darkorange\">A vous de coder :</h3> Tester le code suivant<br>\n",
    "\n",
    "`departement=29`<br>\n",
    "`print(departement)`<br>\n",
    "\n"
   ]
  },
  {
   "cell_type": "code",
   "execution_count": 8,
   "metadata": {},
   "outputs": [],
   "source": [
    "#votre code ici"
   ]
  },
  {
   "cell_type": "markdown",
   "metadata": {},
   "source": [
    "**Quel est le résultat?**"
   ]
  },
  {
   "cell_type": "markdown",
   "metadata": {},
   "source": [
    "<h3 style=\"color: darkorange\">A vous de coder :</h3> \n",
    "Notez que le code suivant ne fait pas le même travail.<br>\n",
    "Les guillemets contiennent la chaîne de caractères à imprimer.<br>\n",
    "\n",
    "`departement=29`<br>\n",
    "`print(\"departement\")`<br>\n",
    "\n"
   ]
  },
  {
   "cell_type": "code",
   "execution_count": 9,
   "metadata": {},
   "outputs": [],
   "source": [
    "#votre code ici"
   ]
  },
  {
   "cell_type": "markdown",
   "metadata": {},
   "source": [
    "<h3 style=\"color: darkorange\">A vous de coder :</h3>\n",
    "\n",
    "Ecrire un programme qui définit une **variable** `mon_age` et qui affiche la **valeur** de `mon_age`"
   ]
  },
  {
   "cell_type": "code",
   "execution_count": 10,
   "metadata": {},
   "outputs": [],
   "source": [
    "#votre code ici"
   ]
  },
  {
   "cell_type": "markdown",
   "metadata": {},
   "source": [
    "==================================================================================================================="
   ]
  },
  {
   "cell_type": "markdown",
   "metadata": {},
   "source": [
    "### <span style=\"color: #0000FF\">ACTIVITE 3 : Les 4 opérations arithmétiques </span>\n",
    "Un ordinateur est capable d'effectuer des opérations mathématiques.\n",
    "Les signes utilisés en Python sont bien connus:\n",
    "* `+` **addition**\n",
    "* `-` **soustraction** \n",
    "* `*` **multiplication** \n",
    "*  `/` **division**\n"
   ]
  },
  {
   "cell_type": "markdown",
   "metadata": {},
   "source": [
    "<h3 style=\"color: darkorange\">A vous de coder :</h3>\n",
    "\n",
    "Que fait le programme suivant ?<br>\n",
    "<br>\n",
    "`a= 5`<br>\n",
    "`b=9`<br>\n",
    "`somme=a+b`<br>\n",
    "`print(somme)`<br>\n",
    "<br>\n",
    "\n"
   ]
  },
  {
   "cell_type": "code",
   "execution_count": 11,
   "metadata": {},
   "outputs": [],
   "source": [
    "#Votre code ici"
   ]
  },
  {
   "cell_type": "markdown",
   "metadata": {},
   "source": [
    "**Votre réponse ici :**"
   ]
  },
  {
   "cell_type": "markdown",
   "metadata": {},
   "source": [
    "<h3 style=\"color: darkorange\">A vous de coder :</h3>\n",
    "\n",
    "Ecrire un programme qui multiplie le contenu de deux variables `c`et `d`<br>\n",
    "Le résultat est rangé dans une troisième variable `produit`<br>\n",
    "Le programme affiche ensuite le contenu de la variable `produit`<br>"
   ]
  },
  {
   "cell_type": "code",
   "execution_count": 12,
   "metadata": {},
   "outputs": [],
   "source": [
    "#votre code ici"
   ]
  },
  {
   "cell_type": "markdown",
   "metadata": {},
   "source": [
    "<h3 style=\"color: darkorange\">A vous de coder :</h3>\n",
    "\n",
    "Que fait le programme suivant?\n",
    "<br>\n",
    "`a= 10`<br>\n",
    "`print(a)`<br>\n",
    "`a=a+2`<br>\n",
    "`print(a)`<br>\n",
    "<br>\n"
   ]
  },
  {
   "cell_type": "code",
   "execution_count": 13,
   "metadata": {},
   "outputs": [],
   "source": [
    "#votre code ici"
   ]
  },
  {
   "cell_type": "markdown",
   "metadata": {},
   "source": [
    "**Votre réponse ici :**"
   ]
  },
  {
   "cell_type": "markdown",
   "metadata": {},
   "source": [
    "<h3 style=\"color: green\">Détails du code :</h3>\n",
    "\n",
    "\n",
    "`a=10` : Nous définissons une variable `a` et lui attribuons la valeur 10.<br>\n",
    "`print(a)` : Nous affichons la valeur de a (c'est à dire 10)<br>\n",
    "`a=a+2` : Se lit **de droite à gauche** :<br>\n",
    "On prend la valeur actuelle de a (c'est à dire 10), on lui ajoute 2, à droite de l'égalité on a donc la valeur 12.<br>\n",
    "Puis on attribue à la variable `a` cette nouvelle valeur.<br>\n",
    "`print(a)`: On affiche la nouvelle valeur de `a`.<br>\n",
    "Dans un code Python le symbole `=`doit être considéré comme une affectation de valeur à une variable.<br>\n",
    "Dans une égalité, on commence toujours par évaluer l'expression située à droite du symbole `=`.<br>\n",
    "\n",
    "\n"
   ]
  },
  {
   "cell_type": "markdown",
   "metadata": {},
   "source": [
    "==================================================================================================================="
   ]
  },
  {
   "cell_type": "markdown",
   "metadata": {},
   "source": [
    "### <span style=\"color: #0000FF\">ACTIVITE 4 : Les types de variables</span>\n",
    "Les variables ne contiennent pas que des nombres. Elles peuvent aussi stocker des chaînes de caractères.<br>\n"
   ]
  },
  {
   "cell_type": "markdown",
   "metadata": {},
   "source": [
    "<h3 style=\"color: darkorange\">A vous de coder :</h3>\n",
    "\n",
    "Tester le code suivant\n",
    "<br>\n",
    "`message= \"Bonjour !\"`<br>\n",
    "`print(message)`<br>\n",
    "<br>\n",
    "Notez bien la présence des `\" \"`."
   ]
  },
  {
   "cell_type": "code",
   "execution_count": 14,
   "metadata": {},
   "outputs": [],
   "source": [
    "#votre code ici"
   ]
  },
  {
   "cell_type": "markdown",
   "metadata": {},
   "source": [
    "**A SAVOIR :** Les variables peuvent contenir des types de données différents:<br>\n",
    "* Le type \"Nombre entier\" (**Int** de integer en anglais)\n",
    "* Le type \"chaine de caractères\" (**Str** de string en anglais)\n",
    "Il en existe d'autres : <br>\n",
    "* Le type \"nombre à virgule flottante\" (**Float**)\n",
    "* Le type \"Booléen\" (**Bool**)\n",
    "* ...<br>\n",
    "\n",
    "En Python, les variables ont un type mais le programmeur n'est pas obligé de le préciser. Il existe d'autres langages où le programmeur doit impérativement définir le type de la variable avant de pouvoir l'utiliser.<br>\n",
    "La fonction `type()`permet de connaître le type d'une variable."
   ]
  },
  {
   "cell_type": "markdown",
   "metadata": {},
   "source": [
    "<h3 style=\"color: darkorange\">A vous de coder :</h3>\n",
    "\n",
    "Tester ce programme :\n",
    "<br>\n",
    "`a= \"Bonjour\"`<br>\n",
    "`b=57`<br>\n",
    "`c=5.87`<br>\n",
    "`d=2==5`<br>\n",
    "`print(type(a))`<br>\n",
    "`print(type(b))`<br>\n",
    "`print(type(c))`<br>\n",
    "`print(type(d))`<br>\n",
    "<br>"
   ]
  },
  {
   "cell_type": "code",
   "execution_count": 15,
   "metadata": {},
   "outputs": [],
   "source": [
    "#votre code ici \n"
   ]
  },
  {
   "cell_type": "markdown",
   "metadata": {},
   "source": [
    "**Remarque :** Le type booléen (variable `d`) sera vu en détail à l'activité 7."
   ]
  },
  {
   "cell_type": "markdown",
   "metadata": {},
   "source": [
    "==================================================================================================================="
   ]
  },
  {
   "cell_type": "markdown",
   "metadata": {},
   "source": [
    "### <span style=\"color: #0000FF\">ACTIVITE 5 : L'affichage (print et f strings) </span>\n",
    "Pour dialoguer avec l'utilisateur, un programme contient souvent une partie dédiée à l'affichage des résultats. \n",
    "Les messages à transmettre contiennent souvent du **texte** ET des **valeurs** de variables.\n",
    "C'est l'objet de la fonction **`print()`**. Depuis la version Python 3.6, les **`f strings`** viennent simplifier la rédaction et la lecture du code en évitant les répétitions des \"guillemets\".<br>\n",
    "Pour un même résultat, voici deux versions d'un code conduisant au même résultat:"
   ]
  },
  {
   "cell_type": "code",
   "execution_count": 16,
   "metadata": {},
   "outputs": [
    {
     "name": "stdout",
     "output_type": "stream",
     "text": [
      "Le produit de  4 par 5 est 20 et le quotient de  4 par 5 est 0.8\n"
     ]
    }
   ],
   "source": [
    "#version classique avec print()\n",
    "a=4\n",
    "b=5\n",
    "print(\"Le produit de \",a,\"par\",b,\"est\",a*b,\"et le quotient de \",a,\"par\",b,\"est\",a/b)"
   ]
  },
  {
   "cell_type": "code",
   "execution_count": 17,
   "metadata": {},
   "outputs": [
    {
     "name": "stdout",
     "output_type": "stream",
     "text": [
      "Le produit de 4 par 5 est 20 et le quotient de 4 par 5 est 0.8\n"
     ]
    }
   ],
   "source": [
    "#version moderne avec f strings\n",
    "a=4\n",
    "b=5\n",
    "print(f\"Le produit de {a} par {b} est {a*b} et le quotient de {a} par {b} est {a/b}\")"
   ]
  },
  {
   "cell_type": "markdown",
   "metadata": {},
   "source": [
    "==================================================================================================================="
   ]
  },
  {
   "cell_type": "markdown",
   "metadata": {},
   "source": [
    "### <span style=\"color: #0000FF\">ACTIVITE 6 : La concaténation</span>\n",
    "En Python, l'utilisation du symbole `+`ne se limite pas à l'addition.\n",
    "Le terme de **concaténation** désigne l'action de mettre bout à bout au moins deux chaînes.<br>\n",
    "La concaténation concerne les **chaînes de caractères**.<br>\n"
   ]
  },
  {
   "cell_type": "markdown",
   "metadata": {},
   "source": [
    "<h3 style=\"color: darkorange\">A vous de coder :</h3>\n",
    "\n",
    "\n",
    "`a=\"Début du  message\"`<br>\n",
    "`b=\"et\"`<br>\n",
    "`c=\"fin du message.\"`<br>\n",
    "`tout=a+b+c`<br>\n",
    "`print(tout)`<br>\n",
    "\n",
    "Que va afficher ce programme?\n"
   ]
  },
  {
   "cell_type": "code",
   "execution_count": 18,
   "metadata": {},
   "outputs": [],
   "source": [
    "#votre code ici\n",
    "\n"
   ]
  },
  {
   "cell_type": "markdown",
   "metadata": {},
   "source": [
    "**Votre Réponse ici :**"
   ]
  },
  {
   "cell_type": "markdown",
   "metadata": {},
   "source": [
    "<h3 style=\"color: darkorange\">A vous de coder :</h3>\n",
    "\n",
    "Que se passe-t-il si on souhaite **concaténer** deux **variables** de **types différents** ?<br>\n",
    "\n",
    "Soit `a` une variable de type str, `b`une variable de type int et `c` une variable telle que  `c=a+b`<br>\n",
    "Ecrire un programme pemettant de tester ce qui se passe.<br>\n",
    "\n"
   ]
  },
  {
   "cell_type": "code",
   "execution_count": 19,
   "metadata": {},
   "outputs": [],
   "source": [
    "#votre code ici"
   ]
  },
  {
   "cell_type": "markdown",
   "metadata": {},
   "source": [
    "**Votre réponse ici :**"
   ]
  },
  {
   "cell_type": "markdown",
   "metadata": {},
   "source": [
    "**Remarque :** Python renvoie un message d'erreur expliquant de façon détaillée l'origine  de celle-ci."
   ]
  },
  {
   "cell_type": "markdown",
   "metadata": {},
   "source": [
    "**On peut aussi :** concaténer en multipliant comme le montre le code suivant:"
   ]
  },
  {
   "cell_type": "code",
   "execution_count": 20,
   "metadata": {},
   "outputs": [
    {
     "name": "stdout",
     "output_type": "stream",
     "text": [
      "Hello-Hello-Hello-Hello-Hello-Hello-Hello-Hello-Hello-Hello-\n"
     ]
    }
   ],
   "source": [
    "message=\"Hello-\"\n",
    "print(message*10)"
   ]
  },
  {
   "cell_type": "markdown",
   "metadata": {},
   "source": [
    "==================================================================================================================="
   ]
  },
  {
   "cell_type": "markdown",
   "metadata": {},
   "source": [
    "### <span style=\"color: #0000FF\">ACTIVITE 7 : Les entrées (input)</span>\n",
    "Pour donner des informations à un programme, l'utilisateur doit pouvoir saisir des données.\n",
    "C'est l'objet de la fonction`input()` du langage Python."
   ]
  },
  {
   "cell_type": "markdown",
   "metadata": {},
   "source": [
    "<h3 style=\"color: darkorange\">A vous de coder :</h3>\n",
    "\n",
    "Tester ce programme <br>\n",
    "`prenom=input(\"Quel est ton prénom ?\")`<br>\n",
    "`print(prenom)`<br>\n"
   ]
  },
  {
   "cell_type": "code",
   "execution_count": 21,
   "metadata": {},
   "outputs": [],
   "source": [
    "#votre code ici"
   ]
  },
  {
   "cell_type": "markdown",
   "metadata": {},
   "source": [
    "La variable `prenom` va contenir la réponse saisie au clavier par l'utilisateur."
   ]
  },
  {
   "cell_type": "markdown",
   "metadata": {},
   "source": [
    "<h3 style=\"color: darkorange\">A vous de coder :</h3>\n",
    "\n",
    "Ecrire un programme qui demande à l'utilsateur son **prénom** et son **âge**. Puis affiche le résultat sous la forme :<br>\n",
    "*Bonjour **prénom**, je vois que tu as **âge** ans.* <br>\n",
    "en remplaçant *prénom* et *âge* par les valeurs saisies.\n"
   ]
  },
  {
   "cell_type": "code",
   "execution_count": 22,
   "metadata": {},
   "outputs": [],
   "source": [
    "#votre code ici"
   ]
  },
  {
   "cell_type": "markdown",
   "metadata": {},
   "source": [
    "<h3 style=\"color: darkorange\">A vous de coder :</h3>\n",
    "\n",
    "Ecrire un programme qui demande à l'utilisateur de saisir deux nombres entiers et affiche la somme de ces deux nombres."
   ]
  },
  {
   "cell_type": "code",
   "execution_count": 23,
   "metadata": {},
   "outputs": [],
   "source": [
    "#votre code ici"
   ]
  },
  {
   "cell_type": "markdown",
   "metadata": {},
   "source": [
    "**Que se passe t-il ?**<br> \n",
    "Que rend votre programme si l'utilisateur saisit les deux nombres 17 et 89 ?<br>\n",
    "Avez-vous compris pourquoi le programme rend 1789 au lieu de 106?<br>\n"
   ]
  },
  {
   "cell_type": "markdown",
   "metadata": {},
   "source": [
    "**Votre réponse ici :**"
   ]
  },
  {
   "cell_type": "markdown",
   "metadata": {},
   "source": [
    "En fait la fonction `input()` renvoie une variable de type `str` par défaut.<br>\n",
    "Le résultat de  \"17\"+\"89\" est donc la concaténation \"1789\".<br>\n",
    "Pour obtenir l'addition des deux nombres, il faudra convertir les variables de type `str`en type `int`grâce à la fonction `int()`\n",
    "\n",
    "Ainsi le code :<br>\n",
    "`a=input(\"premier nombre\")`<br>\n",
    "`a=int(a)`<br>\n",
    "\n",
    "demande à l'utilisateur de saisir le premier nombre puis convertit sa réponse en variable de type `int`.<br>\n",
    "\n",
    "\n"
   ]
  },
  {
   "cell_type": "markdown",
   "metadata": {},
   "source": [
    "<h3 style=\"color: darkorange\">A vous de coder :</h3>\n",
    "\n",
    "Modifier votre programme pour qu'il affiche bien la somme de deux nombres entiers saisis par l'utilisateur."
   ]
  },
  {
   "cell_type": "code",
   "execution_count": 24,
   "metadata": {},
   "outputs": [],
   "source": [
    "#votre code ici"
   ]
  },
  {
   "cell_type": "markdown",
   "metadata": {},
   "source": [
    "De la même façon, le code :<br>\n",
    "`a=input(\"premier nombre\")`<br>\n",
    "`a=float(a)`<br>\n",
    "\n",
    "demande à l'utilisateur de saisir le premier nombre puis convertit sa réponse en variable de type `float`.<br>\n"
   ]
  },
  {
   "cell_type": "markdown",
   "metadata": {},
   "source": [
    "<h3 style=\"color: darkorange\">A vous de coder :</h3>\n",
    "\n",
    "Ecrire un programme qui demande à l'utilisateur de saisir deux nombres flottants et affiche la moyenne arithmétique de ces deux nombres."
   ]
  },
  {
   "cell_type": "code",
   "execution_count": 25,
   "metadata": {},
   "outputs": [],
   "source": [
    "#votre code ici"
   ]
  },
  {
   "cell_type": "markdown",
   "metadata": {},
   "source": [
    "==================================================================================================================="
   ]
  },
  {
   "cell_type": "markdown",
   "metadata": {},
   "source": [
    "### <span style=\"color: #0000FF\">ACTIVITE 8 : Les variables de type booléen </span>\n",
    "L'affirmation \" 7 est égal à 5 \" est bien entendu FAUSSE tandis que l'affirmation \"7 est égal à 7\" est VRAIE.<br>\n",
    "En Python, l'expression \"7 est égal à 5\" va s'écrire `7==5`<br>\n",
    "et l'expression \"7 est égal à 7\" s'écrira `7==7`.<br>\n",
    "Notez bien l'usage du **double symbole** `=`.<br>"
   ]
  },
  {
   "cell_type": "markdown",
   "metadata": {},
   "source": [
    "<h3 style=\"color: darkorange\">A vous de coder :</h3>\n",
    "\n",
    "Tester le code suivant<br>\n",
    "`print(7==5)`<br>\n",
    "`print(7==7)`<br>\n"
   ]
  },
  {
   "cell_type": "code",
   "execution_count": 26,
   "metadata": {},
   "outputs": [],
   "source": [
    "#votre code ici"
   ]
  },
  {
   "cell_type": "markdown",
   "metadata": {},
   "source": [
    "**Remarques :** <br>\n",
    "* Le double égal `==`est l'opérateur d'égalité qu'il ne faut pas confondre avec le simple égal `=`opérateur d'affectation.\n",
    "* L'égalité est soit vraie (`True`) soit fausse (`False`)"
   ]
  },
  {
   "cell_type": "markdown",
   "metadata": {},
   "source": [
    "<h3 style=\"color: darkorange\">A vous de coder :</h3>\n",
    "\n",
    "Tester le code suivant<br>\n",
    "`a=\"Vert\"`<br>\n",
    "`b=\"Rouge\"`<br>\n",
    "`print(a==b)`<br>\n",
    "`b=\"Vert\"`<br>\n",
    "`print(a==b)`<br>"
   ]
  },
  {
   "cell_type": "code",
   "execution_count": 27,
   "metadata": {},
   "outputs": [],
   "source": [
    "#votre code ici"
   ]
  },
  {
   "cell_type": "markdown",
   "metadata": {},
   "source": [
    "**Quel est le résultat de ce programme ?**"
   ]
  },
  {
   "cell_type": "markdown",
   "metadata": {},
   "source": [
    "**Remarque:**<br>\n",
    "On peut aussi utliser les opérateurs :\n",
    "\n",
    "* \"différent de \" `!=`\n",
    "* \"strictement inférieur à \" `<`\n",
    "* \"strictement supérieur à \" `>`\n",
    "* \"inférieur ou égal à \" `<=`\n",
    "* \"supérieur ou égal à \" `>=`\n",
    "\n"
   ]
  },
  {
   "cell_type": "markdown",
   "metadata": {},
   "source": [
    "<h3 style=\"color: darkorange\">A vous de coder :</h3>\n",
    "\n",
    "Tester le code suivant<br>\n",
    "`a=\"Vert\"`<br>\n",
    "`b=\"Rouge\"`<br>\n",
    "`print(a!=b)`<br>\n",
    "`b=\"Vert\"`<br>\n",
    "`print(a!=b)`<br>"
   ]
  },
  {
   "cell_type": "code",
   "execution_count": 28,
   "metadata": {},
   "outputs": [],
   "source": [
    "#votre code ici"
   ]
  },
  {
   "cell_type": "markdown",
   "metadata": {},
   "source": [
    "**Quel est le résultat de ce programme ?**"
   ]
  },
  {
   "cell_type": "markdown",
   "metadata": {},
   "source": [
    "<h3 style=\"color: darkorange\">A vous de coder :</h3>\n",
    "\n",
    "Tester le code suivant<br>\n",
    "`a=7`<br>\n",
    "`b=7`<br>\n",
    "`print(a<b)`<br>\n",
    "`print(a>b)`<br>\n",
    "`print(a<=b)`<br>\n",
    "`print(a>=b)`<br>\n",
    "`print(a=b)`<br>"
   ]
  },
  {
   "cell_type": "code",
   "execution_count": 29,
   "metadata": {},
   "outputs": [],
   "source": [
    "#votre code ici"
   ]
  },
  {
   "cell_type": "markdown",
   "metadata": {},
   "source": [
    "**Quel est le résultat de ce programme ?**"
   ]
  },
  {
   "cell_type": "code",
   "execution_count": 30,
   "metadata": {},
   "outputs": [],
   "source": [
    "#votre code ici "
   ]
  },
  {
   "cell_type": "markdown",
   "metadata": {},
   "source": [
    "### <span style=\"color: #0000FF\">Compléments sur les variables </span>\n",
    "\n",
    "http://lls-ftp.s3.amazonaws.com/collection-2019/python/FICHE2_LES_VARIABLES.pdf\n"
   ]
  },
  {
   "cell_type": "markdown",
   "metadata": {},
   "source": [
    "============================= FIN  DU CARNET : Débuter Python ==================================================="
   ]
  }
 ],
 "metadata": {
  "kernelspec": {
   "display_name": "Python 3",
   "language": "python",
   "name": "python3"
  },
  "language_info": {
   "codemirror_mode": {
    "name": "ipython",
    "version": 3
   },
   "file_extension": ".py",
   "mimetype": "text/x-python",
   "name": "python",
   "nbconvert_exporter": "python",
   "pygments_lexer": "ipython3",
   "version": "3.7.4"
  }
 },
 "nbformat": 4,
 "nbformat_minor": 2
}
