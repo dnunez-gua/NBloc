{
 "cells": [
  {
   "cell_type": "markdown",
   "metadata": {},
   "source": [
    "# <span style=\"color: #fb4141\">Les instructions conditionnelles en Python</span>\n",
    "\n",
    "## Apprendre les bases de la programmation en  langage Python\n",
    "\n"
   ]
  },
  {
   "cell_type": "markdown",
   "metadata": {},
   "source": [
    "==================================================================================================================="
   ]
  },
  {
   "cell_type": "markdown",
   "metadata": {},
   "source": [
    "Ce carnet (Notebook Jupyter) est une adaptation libre d'un document (pdf) dont l'auteur original est David Roche, repris ensuite par Fabrice Sincère.<br>\n",
    "Les compléments sont basés sur les fiches Python du site lelivrescolaire.fr.<br>\n",
    "**Dernière modification :** Yann Guélou (24 octobre 2019).<br>"
   ]
  },
  {
   "cell_type": "markdown",
   "metadata": {},
   "source": [
    "==================================================================================================================="
   ]
  },
  {
   "cell_type": "markdown",
   "metadata": {},
   "source": [
    "### <span style=\"color: #0000FF\">ACTIVITE 1 : Notion de </span>\n",
    "\n",
    "\n",
    "\n",
    "\n"
   ]
  },
  {
   "cell_type": "markdown",
   "metadata": {},
   "source": [
    "<h3 style=\"color: darkorange\">A vous de coder :</h3>\n",
    "\n",
    "<h3 class='fa fa-graduation-cap' style=\"color: darkorange\">A vous de coder :</h3>\n",
    "\n",
    "Tester le code suivant :<br>\n",
    "\n"
   ]
  },
  {
   "cell_type": "code",
   "execution_count": 11,
   "metadata": {},
   "outputs": [],
   "source": [
    "#votre code ici"
   ]
  },
  {
   "cell_type": "markdown",
   "metadata": {},
   "source": [
    "**Quel est le résultat?**"
   ]
  },
  {
   "cell_type": "markdown",
   "metadata": {},
   "source": [
    "==================================================================================================================="
   ]
  },
  {
   "cell_type": "markdown",
   "metadata": {},
   "source": [
    "============= FIN  DU CARNET : Instructions conditionnelles en  Python ===================="
   ]
  }
 ],
 "metadata": {
  "kernelspec": {
   "display_name": "Python 3",
   "language": "python",
   "name": "python3"
  },
  "language_info": {
   "codemirror_mode": {
    "name": "ipython",
    "version": 3
   },
   "file_extension": ".py",
   "mimetype": "text/x-python",
   "name": "python",
   "nbconvert_exporter": "python",
   "pygments_lexer": "ipython3",
   "version": "3.7.4"
  }
 },
 "nbformat": 4,
 "nbformat_minor": 2
}
