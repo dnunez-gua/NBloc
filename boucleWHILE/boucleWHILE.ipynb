{
 "cells": [
  {
   "cell_type": "markdown",
   "metadata": {},
   "source": [
    "# <span style=\"color: #fb4141\">La boucle WHILE en Python</span>\n",
    "\n",
    "## Apprendre les bases de la programmation en langage Python\n",
    "\n"
   ]
  },
  {
   "cell_type": "markdown",
   "metadata": {},
   "source": [
    "==================================================================================================================="
   ]
  },
  {
   "cell_type": "markdown",
   "metadata": {},
   "source": [
    "Ce carnet (Notebook Jupyter) est une adaptation libre d'un document pdf dont l'auteur original est David Roche, repris ensuite par Fabrice Sincère.<br>\n",
    "Les compléments sont basés sur les fiches Python du site lelivrescolaire.fr.<br>\n",
    "**Dernière modification :** Yann Guélou (23 octobre 2019).<br>"
   ]
  },
  {
   "cell_type": "markdown",
   "metadata": {},
   "source": [
    "==================================================================================================================="
   ]
  },
  {
   "cell_type": "markdown",
   "metadata": {},
   "source": [
    "### <span style=\"color: #0000FF\">1. La boucle While</span>\n",
    "\n",
    "La boucle While (tant que) permet de répéter une ou plusieurs instructions (partie indentée) tant que la condition est Vraie.\n",
    "En Python, sa structure est la suivante : \n",
    "\n",
    "`while condition:`<br>\n",
    "`----instructions`<br>\n",
    "`suite du programme`<br>\n",
    "\n"
   ]
  },
  {
   "cell_type": "markdown",
   "metadata": {},
   "source": [
    "<h3 style=\"color: darkorange\">A vous de coder :</h3>\n",
    "\n",
    "Tester le code suivant<br>\n",
    "\n"
   ]
  },
  {
   "cell_type": "code",
   "execution_count": 3,
   "metadata": {},
   "outputs": [
    {
     "name": "stdout",
     "output_type": "stream",
     "text": [
      "0 est inférieur à 10\n",
      "1 est inférieur à 10\n",
      "2 est inférieur à 10\n",
      "3 est inférieur à 10\n",
      "4 est inférieur à 10\n",
      "5 est inférieur à 10\n",
      "6 est inférieur à 10\n",
      "7 est inférieur à 10\n",
      "8 est inférieur à 10\n",
      "9 est inférieur à 10\n",
      "Fin du programme\n"
     ]
    }
   ],
   "source": [
    "i=0\n",
    "while i<10:\n",
    "    print(f\"{i} est inférieur à 10\")\n",
    "    i=i+1\n",
    "print(\"Fin du programme\")"
   ]
  },
  {
   "cell_type": "markdown",
   "metadata": {},
   "source": [
    "**Que fait ce programme?**"
   ]
  },
  {
   "cell_type": "markdown",
   "metadata": {},
   "source": [
    "### <span style=\"color: #0000FF\">2. EXERCICES </span>"
   ]
  },
  {
   "cell_type": "markdown",
   "metadata": {},
   "source": [
    "<h3 style=\"color: darkorange\">A vous de coder :</h3>\n",
    "\n",
    "\n",
    "Ecrire un programme qui :\n",
    "* demande à l'utilisateur de choisir un nombre entier de 1 à 10 \n",
    "* puis affiche la table de multiplcation correspondante.<br>\n",
    "\n",
    "Par exemple:<br>\n",
    "Si l'utilisateur saisit le nombre 5,<br>\n",
    "Le programme va afficher:<br>\n",
    "5 x 1 = 5<br>\n",
    "5 x 2 = 10<br>\n",
    "...<br>\n",
    "5 x 10= 50<br>"
   ]
  },
  {
   "cell_type": "code",
   "execution_count": 3,
   "metadata": {},
   "outputs": [],
   "source": [
    "#votre code ici"
   ]
  },
  {
   "cell_type": "markdown",
   "metadata": {},
   "source": [
    "<h3 style=\"color: darkorange\">A vous de coder :</h3>\n",
    "\n",
    "Ecrire un programme qui :<br>\n",
    "* choisit au hasard un nombre secret entier entre 1 et 100.(sans le révéler à l'utilisateur)<br>\n",
    "* demande à l'utilisateur de le deviner tant qu'il n'a pas trouvé ce nombre.<br>\n",
    "* affiche le message \"Bravo, vous avez gagné\" quand l'utilisateur a trouvé le nombre secret.<br>\n"
   ]
  },
  {
   "cell_type": "markdown",
   "metadata": {},
   "source": [
    "**Aide :** Pour tirer et afficher un nombre entier aléatoire entre 1 et 100, on peut procéder ainsi:"
   ]
  },
  {
   "cell_type": "code",
   "execution_count": 6,
   "metadata": {},
   "outputs": [
    {
     "name": "stdout",
     "output_type": "stream",
     "text": [
      "66\n"
     ]
    }
   ],
   "source": [
    "from random import *\n",
    "secret=randint(1,100)\n",
    "print(secret)"
   ]
  },
  {
   "cell_type": "code",
   "execution_count": null,
   "metadata": {},
   "outputs": [],
   "source": [
    "#votre code ici"
   ]
  },
  {
   "cell_type": "markdown",
   "metadata": {},
   "source": [
    "### <span style=\"color: #0000FF\">Compléments sur les boucles non bornées </span>\n",
    "http://lls-ftp.s3.amazonaws.com/collection-2019/python/FICHE6_LES_BOUCLES_NON_BORNEES.pdf"
   ]
  },
  {
   "cell_type": "markdown",
   "metadata": {},
   "source": [
    "============= FIN  DU CARNET : La boucle While en  Python ===================="
   ]
  }
 ],
 "metadata": {
  "kernelspec": {
   "display_name": "Python 3",
   "language": "python",
   "name": "python3"
  },
  "language_info": {
   "codemirror_mode": {
    "name": "ipython",
    "version": 3
   },
   "file_extension": ".py",
   "mimetype": "text/x-python",
   "name": "python",
   "nbconvert_exporter": "python",
   "pygments_lexer": "ipython3",
   "version": "3.7.4"
  }
 },
 "nbformat": 4,
 "nbformat_minor": 2
}
